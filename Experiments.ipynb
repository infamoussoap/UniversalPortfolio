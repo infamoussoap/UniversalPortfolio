{
 "cells": [
  {
   "cell_type": "code",
   "execution_count": 1,
   "id": "96471d73",
   "metadata": {},
   "outputs": [],
   "source": [
    "import numpy as np\n",
    "import pandas as pd\n",
    "\n",
    "import matplotlib.pyplot as plt\n",
    "\n",
    "import datetime"
   ]
  },
  {
   "cell_type": "code",
   "execution_count": 2,
   "id": "10485881",
   "metadata": {},
   "outputs": [],
   "source": [
    "from Optimizers import cauchy_simplex, egd, buy_and_hold\n",
    "from Optimizers.utils import best_returns"
   ]
  },
  {
   "cell_type": "code",
   "execution_count": 3,
   "id": "f2af5feb",
   "metadata": {},
   "outputs": [],
   "source": [
    "import os"
   ]
  },
  {
   "cell_type": "code",
   "execution_count": 4,
   "id": "e976814d",
   "metadata": {},
   "outputs": [],
   "source": [
    "def sharpe_ratio(price_relatives, risk_free=0.04):\n",
    "    price_relatives = np.array(price_relatives)\n",
    "    APY = annualized_percentage_yield(price_relatives)\n",
    "    \n",
    "    returns = price_relatives - 1\n",
    "    return (APY - risk_free) / np.std(returns)"
   ]
  },
  {
   "cell_type": "code",
   "execution_count": 5,
   "id": "fa0190db",
   "metadata": {},
   "outputs": [],
   "source": [
    "def annualized_percentage_yield(price_relatives):\n",
    "    price_relatives = np.array(price_relatives)\n",
    "    \n",
    "    y = len(price_relatives) // 252\n",
    "    \n",
    "    cumulative_wealth = np.prod(price_relatives)\n",
    "    APY = pow(cumulative_wealth, 1 / y) - 1\n",
    "    \n",
    "    return APY"
   ]
  },
  {
   "cell_type": "code",
   "execution_count": 6,
   "id": "18e9dbfd",
   "metadata": {},
   "outputs": [],
   "source": [
    "def evaluate_returns(price_relatives, risk_free=0.04):\n",
    "    return (annualized_percentage_yield(price_relatives), \n",
    "            sharpe_ratio(price_relatives, risk_free=risk_free))"
   ]
  },
  {
   "cell_type": "code",
   "execution_count": 7,
   "id": "473c8fb5",
   "metadata": {},
   "outputs": [],
   "source": [
    "def run_cs(returns):\n",
    "    \"\"\" returns assumed to be the price relatives \"\"\"\n",
    "    returns = np.array(returns)\n",
    "    \n",
    "    T, N = returns.shape\n",
    "\n",
    "    rescaled_returns = returns / np.max(returns, axis=1)[:, None]\n",
    "    a = np.min(rescaled_returns)\n",
    "    \n",
    "    cs_eta = a * np.sqrt(np.log(N)) / (a * np.sqrt(np.log(N)) + np.sqrt(T))\n",
    "    _, cs_history = cauchy_simplex(rescaled_returns, cs_eta)\n",
    "    \n",
    "    return cs_history\n",
    "\n",
    "def run_egd(returns):\n",
    "    \"\"\" returns assumed to be the price relatives \"\"\"\n",
    "    returns = np.array(returns)\n",
    "    \n",
    "    T, N = returns.shape\n",
    "\n",
    "    rescaled_returns = returns / np.max(returns, axis=1)[:, None]\n",
    "    a = np.min(rescaled_returns)\n",
    "    \n",
    "    egd_eta = 2 * a * np.sqrt(2 * np.log(N) / T)\n",
    "    _, egd_history = egd(rescaled_returns, egd_eta)\n",
    "\n",
    "    return egd_history\n",
    "\n",
    "def run_hold(returns):\n",
    "    \"\"\" returns assumed to be the price relatives \"\"\"\n",
    "    returns = np.array(returns)\n",
    "    \n",
    "    T, N = returns.shape\n",
    "\n",
    "    rescaled_returns = returns / np.max(returns, axis=1)[:, None]\n",
    "    \n",
    "    _, hold_history = buy_and_hold(rescaled_returns)\n",
    "\n",
    "    return hold_history"
   ]
  },
  {
   "cell_type": "code",
   "execution_count": 8,
   "id": "133dbbea",
   "metadata": {},
   "outputs": [
    {
     "data": {
      "text/plain": [
       "['NYSE', 'DJIA', 'SP500', 'TSE']"
      ]
     },
     "execution_count": 8,
     "metadata": {},
     "output_type": "execute_result"
    }
   ],
   "source": [
    "root_dir = 'Datasets/clean/'\n",
    "\n",
    "markets = [x.replace('.csv', '') for x in os.listdir(root_dir)]\n",
    "markets"
   ]
  },
  {
   "cell_type": "code",
   "execution_count": 9,
   "id": "2b47b9dd",
   "metadata": {},
   "outputs": [],
   "source": [
    "apy_results = pd.DataFrame(0.0, index=markets, columns=['CS', 'EGD', 'B&H'])\n",
    "sharpe_results = pd.DataFrame(0.0, index=markets, columns=['CS', 'EGD', 'B&H'])\n",
    "\n",
    "optimizer_weights = {key: None for key in apy_results.columns}\n",
    "\n",
    "for csv_file in os.listdir(root_dir):\n",
    "    market = csv_file.replace(\".csv\", \"\")\n",
    "    \n",
    "    returns = pd.read_csv(root_dir + csv_file, index_col=0)\n",
    "    \n",
    "    optimizer_weights['CS'] = run_cs(returns)\n",
    "    optimizer_weights['EGD'] = run_egd(returns)\n",
    "    optimizer_weights['B&H'] = run_hold(returns)\n",
    "    \n",
    "    for optimizer, w_history in optimizer_weights.items():\n",
    "        running_returns = np.sum(returns * w_history, axis=1)\n",
    "        apy, sharpe = evaluate_returns(running_returns, risk_free=0.04)\n",
    "        \n",
    "        apy_results.loc[market, optimizer] = apy\n",
    "        sharpe_results.loc[market, optimizer] = sharpe"
   ]
  },
  {
   "cell_type": "code",
   "execution_count": 10,
   "id": "b710068a",
   "metadata": {},
   "outputs": [
    {
     "data": {
      "text/html": [
       "<div>\n",
       "<style scoped>\n",
       "    .dataframe tbody tr th:only-of-type {\n",
       "        vertical-align: middle;\n",
       "    }\n",
       "\n",
       "    .dataframe tbody tr th {\n",
       "        vertical-align: top;\n",
       "    }\n",
       "\n",
       "    .dataframe thead th {\n",
       "        text-align: right;\n",
       "    }\n",
       "</style>\n",
       "<table border=\"1\" class=\"dataframe\">\n",
       "  <thead>\n",
       "    <tr style=\"text-align: right;\">\n",
       "      <th></th>\n",
       "      <th>CS</th>\n",
       "      <th>EGD</th>\n",
       "      <th>B&amp;H</th>\n",
       "    </tr>\n",
       "  </thead>\n",
       "  <tbody>\n",
       "    <tr>\n",
       "      <th>NYSE</th>\n",
       "      <td>0.161767</td>\n",
       "      <td>0.161799</td>\n",
       "      <td>0.129239</td>\n",
       "    </tr>\n",
       "    <tr>\n",
       "      <th>DJIA</th>\n",
       "      <td>-0.099426</td>\n",
       "      <td>-0.101220</td>\n",
       "      <td>-0.125723</td>\n",
       "    </tr>\n",
       "    <tr>\n",
       "      <th>SP500</th>\n",
       "      <td>0.103890</td>\n",
       "      <td>0.101411</td>\n",
       "      <td>0.060541</td>\n",
       "    </tr>\n",
       "    <tr>\n",
       "      <th>TSE</th>\n",
       "      <td>0.123728</td>\n",
       "      <td>0.123485</td>\n",
       "      <td>0.126946</td>\n",
       "    </tr>\n",
       "  </tbody>\n",
       "</table>\n",
       "</div>"
      ],
      "text/plain": [
       "             CS       EGD       B&H\n",
       "NYSE   0.161767  0.161799  0.129239\n",
       "DJIA  -0.099426 -0.101220 -0.125723\n",
       "SP500  0.103890  0.101411  0.060541\n",
       "TSE    0.123728  0.123485  0.126946"
      ]
     },
     "execution_count": 10,
     "metadata": {},
     "output_type": "execute_result"
    }
   ],
   "source": [
    "apy_results"
   ]
  },
  {
   "cell_type": "code",
   "execution_count": 11,
   "id": "b5a17065",
   "metadata": {},
   "outputs": [
    {
     "data": {
      "text/html": [
       "<div>\n",
       "<style scoped>\n",
       "    .dataframe tbody tr th:only-of-type {\n",
       "        vertical-align: middle;\n",
       "    }\n",
       "\n",
       "    .dataframe tbody tr th {\n",
       "        vertical-align: top;\n",
       "    }\n",
       "\n",
       "    .dataframe thead th {\n",
       "        text-align: right;\n",
       "    }\n",
       "</style>\n",
       "<table border=\"1\" class=\"dataframe\">\n",
       "  <thead>\n",
       "    <tr style=\"text-align: right;\">\n",
       "      <th></th>\n",
       "      <th>CS</th>\n",
       "      <th>EGD</th>\n",
       "      <th>B&amp;H</th>\n",
       "    </tr>\n",
       "  </thead>\n",
       "  <tbody>\n",
       "    <tr>\n",
       "      <th>NYSE</th>\n",
       "      <td>14.359944</td>\n",
       "      <td>14.309884</td>\n",
       "      <td>9.529189</td>\n",
       "    </tr>\n",
       "    <tr>\n",
       "      <th>DJIA</th>\n",
       "      <td>-8.714009</td>\n",
       "      <td>-8.848280</td>\n",
       "      <td>-10.811617</td>\n",
       "    </tr>\n",
       "    <tr>\n",
       "      <th>SP500</th>\n",
       "      <td>4.594588</td>\n",
       "      <td>4.395150</td>\n",
       "      <td>1.346768</td>\n",
       "    </tr>\n",
       "    <tr>\n",
       "      <th>TSE</th>\n",
       "      <td>10.225199</td>\n",
       "      <td>10.204133</td>\n",
       "      <td>10.629036</td>\n",
       "    </tr>\n",
       "  </tbody>\n",
       "</table>\n",
       "</div>"
      ],
      "text/plain": [
       "              CS        EGD        B&H\n",
       "NYSE   14.359944  14.309884   9.529189\n",
       "DJIA   -8.714009  -8.848280 -10.811617\n",
       "SP500   4.594588   4.395150   1.346768\n",
       "TSE    10.225199  10.204133  10.629036"
      ]
     },
     "execution_count": 11,
     "metadata": {},
     "output_type": "execute_result"
    }
   ],
   "source": [
    "sharpe_results"
   ]
  },
  {
   "cell_type": "code",
   "execution_count": 12,
   "id": "e7995836",
   "metadata": {},
   "outputs": [],
   "source": [
    "optimizers = apy_results.columns\n",
    "markets = apy_results.index"
   ]
  },
  {
   "cell_type": "code",
   "execution_count": 13,
   "id": "a190ae4b",
   "metadata": {},
   "outputs": [
    {
     "name": "stdout",
     "output_type": "stream",
     "text": [
      "\\begin{tabular}{l|cc|cc|cc}\n",
      "\\toprule\n",
      " & \\multicolumn{2}{c|}{CS}&\\multicolumn{2}{c|}{EGD} &\\multicolumn{2}{c}{B\\&H} \\\\\n",
      "\\midrule\n",
      "Dataset & APY & Sharpe & APY & Sharpe & APY & Sharpe\\\\\n",
      "\\midrule\n",
      "NYSE & 0.162 & \\textbf{14.360} & \\textbf{0.162} & 14.310& \\underline{0.129} & \\underline{9.529} \\\\\n",
      "DJIA & \\textbf{-0.099} & \\textbf{-8.714} & -0.101 & -8.848& \\underline{-0.126} & \\underline{-10.812} \\\\\n",
      "SP500 & \\textbf{0.104} & \\textbf{4.595} & 0.101 & 4.395& \\underline{0.061} & \\underline{1.347} \\\\\n",
      "TSE & 0.124 & 10.225& \\underline{0.123} & \\underline{10.204} & \\textbf{0.127} & \\textbf{10.629} \\\\\n",
      "\\bottomrule\n",
      "\\end{tabular}\n"
     ]
    }
   ],
   "source": [
    "print(r\"\"\"\\begin{tabular}{l|cc|cc|cc}\n",
    "\\toprule\n",
    " & \\multicolumn{2}{c|}{CS}&\\multicolumn{2}{c|}{EGD} &\\multicolumn{2}{c}{B\\&H} \\\\\n",
    "\\midrule\n",
    "Dataset & APY & Sharpe & APY & Sharpe & APY & Sharpe\\\\\n",
    "\\midrule\"\"\")\n",
    "\n",
    "for market in apy_results.index:\n",
    "    apy_values = apy_results.loc[market].values\n",
    "    sharpe_values = sharpe_results.loc[market].values\n",
    "    \n",
    "    min_apy_index, max_apy_index = np.argmin(apy_values), np.argmax(apy_values)\n",
    "    min_sharpe_index, max_sharpe_index = np.argmin(sharpe_values), np.argmax(sharpe_values)\n",
    "    \n",
    "    s = f\"{market} \"\n",
    "    for i, (apy, sharpe) in enumerate(zip(apy_values, sharpe_values)):\n",
    "        if i == min_apy_index:\n",
    "            s += r\"& \\underline{\" + f\"{apy:.3f}\" + \"} \"\n",
    "        elif i == max_apy_index:\n",
    "            s += r\"& \\textbf{\" + f\"{apy:.3f}\" + \"} \"\n",
    "        else:\n",
    "            s += f\"& {apy:.3f} \"\n",
    "        \n",
    "        if i == min_sharpe_index:\n",
    "            s += r\"& \\underline{\" + f\"{sharpe:.3f}\" + \"} \"\n",
    "        elif i == max_sharpe_index:\n",
    "            s += r\"& \\textbf{\" + f\"{sharpe:.3f}\" + \"} \"\n",
    "        else:\n",
    "            s += f\"& {sharpe:.3f}\"\n",
    "    \n",
    "    s += r\"\\\\\"\n",
    "    print(s)\n",
    "\n",
    "print(r\"\"\"\\bottomrule\n",
    "\\end{tabular}\"\"\")"
   ]
  }
 ],
 "metadata": {
  "kernelspec": {
   "display_name": "Python 3 (ipykernel)",
   "language": "python",
   "name": "python3"
  },
  "language_info": {
   "codemirror_mode": {
    "name": "ipython",
    "version": 3
   },
   "file_extension": ".py",
   "mimetype": "text/x-python",
   "name": "python",
   "nbconvert_exporter": "python",
   "pygments_lexer": "ipython3",
   "version": "3.10.6"
  }
 },
 "nbformat": 4,
 "nbformat_minor": 5
}
